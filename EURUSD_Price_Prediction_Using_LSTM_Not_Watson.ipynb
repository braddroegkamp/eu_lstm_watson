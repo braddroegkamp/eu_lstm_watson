{
 "cells": [
  {
   "cell_type": "markdown",
   "metadata": {
    "collapsed": true
   },
   "source": [
    "<h1 align=\"center\">Predicting EUR/USD with LSTM Network</h1> \n",
    "<h3 align=\"center\">Bradley Droegkamp</h3> "
   ]
  },
  {
   "cell_type": "markdown",
   "metadata": {},
   "source": [
    "# Introduction\n",
    "***\n",
    "Forex price prediction, much like stock price prediction, is a near impossible task given all the noise involved in price time series data.  However, profitable trading strategies can be made from models that provide only a sliver of edge.  In this analysis I will attempt to forecast price, provide a basic backtesting framework for evaluating models, and show some of the challenges associated with forecasting.\n",
    "\n",
    "As for modeling and data, I will use a Long Short-Term Memory (LSTM - http://colah.github.io/posts/2015-08-Understanding-LSTMs/) network to predict the 5 minute future price of the front month EUR/USD futures contract (EU) listed on the Chicago Mercantile Exchange (CME - https://www.cmegroup.com/trading/fx/g10/euro-fx.html).  The model will focus on a small subset of trading hours (9:15 - 11:15AM CST).\n",
    "<br>"
   ]
  },
  {
   "cell_type": "markdown",
   "metadata": {},
   "source": [
    "# Data\n",
    "***\n",
    "The data set consists of 1-minute increment front-month EU price data from September 27, 2009 to April 18, 2018, though we will only use a subset. The data was purchased from a vendor of CME intraday data.  Note the data contains all open hours of trading, which is a 23 hour trading day of 17:00(t-1) - 16:00 CST Monday(Sunday PM) to Friday.\n",
    "\n",
    "### Contract Details\n",
    "<table class=\"cmeSpecTable\" summary=\"Contract Specifications Product Table\" cellspacing=\"0\" cellpadding=\"2\">\n",
    "<tbody>\n",
    "<tr>\n",
    "<td class=\"prodSpecAtribute\">Contract Unit</td>\n",
    "<td colspan=\"5\" style=\"text-align:left\">125,000 euro</td>\n",
    "</tr>\n",
    "<tr>\n",
    "<td class=\"prodSpecAtribute\" rowspan=\"1\">Trading Hours</td>\n",
    "<td colspan=\"3\" style=\"text-align:left\">Sunday - Friday 6:00 p.m. - 5:00 p.m. (5:00 p.m. - 4:00 p.m. Chicago Time/CT) with a 60-minute break each day beginning at 5:00 p.m. (4:00 p.m. CT)</td>\n",
    "</tr>\n",
    "<tr>\n",
    "<td class=\"prodSpecAtribute\" rowspan=\"1\">Minimum Price Fluctuation*</td>\n",
    "<td colspan=\"3\" style=\"text-align:left\">Outrights: .00005 USD per EUR increments ($6.25 USD).<br />Consecutive Month Spreads: (Globex only)&nbsp;&nbsp;0.00001 USD per EUR (1.25 USD)<br />All other Spread Combinations: &nbsp;0.00005 USD per EUR (6.25 USD)</td>\n",
    "</tr>\n",
    "<tr>\n",
    "<td class=\"prodSpecAtribute\">Product Code</td>\n",
    "<td colspan=\"5\" style=\"text-align:left\">CME Globex: 6E<br />CME ClearPort: EC<br />Clearing: EC</td>\n",
    "</tr>\n",
    "<tr>\n",
    "<td class=\"prodSpecAtribute\" rowspan=\"1\">Listed Contracts</td>\n",
    "<td colspan=\"5\" style=\"text-align:left\">Contracts listed for the first 3 consecutive months and 20 months in the March quarterly cycle (Mar, Jun, Sep, Dec)</td>\n",
    "</tr>\n",
    "<tr>\n",
    "<td class=\"prodSpecAtribute\">Settlement Method</td>\n",
    "<td colspan=\"5\" style=\"text-align:left\">Deliverable</td>\n",
    "</tr>\n",
    "<tr>\n",
    "<td class=\"prodSpecAtribute\" rowspan=\"1\">Termination Of Trading</td>\n",
    "<td colspan=\"5\" style=\"text-align:left\">9:16 a.m. Central Time (CT) on the second business day immediately preceding the third Wednesday of the contract month (usually Monday).</td>\n",
    "</tr>\n",
    "<tr>\n",
    "<td class=\"prodSpecAtribute\">Settlement Procedures</td>\n",
    "<td colspan=\"5\" style=\"text-align:left\">Physical Delivery<br /><a href=\"http://www.cmegroup.com/confluence/display/EPICSANDBOX/Euro\" target=\"_blank\">EUR/USD Futures Settlement Procedures&nbsp;</a></td>\n",
    "</tr>\n",
    "</tbody>\n",
    "</table>\n",
    "\n",
    "*Source:  https://www.cmegroup.com/trading/fx/g10/euro-fx_contract_specifications.html*\n",
    "\n",
    "**Min Price Fluctuation changed from 0.0001 to 0.00005 on January 11, 2016 (https://www.cmegroup.com/trading/fx/half-tick.html)*\n",
    "\n",
    "<br>\n",
    "\n",
    "#### I.  Bring in the raw data."
   ]
  },
  {
   "cell_type": "code",
   "execution_count": 1,
   "metadata": {},
   "outputs": [
    {
     "name": "stdout",
     "output_type": "stream",
     "text": [
      "Waiting for a Spark session to start...\n",
      "Spark Initialization Done! ApplicationId = app-20190226181440-0001\n",
      "KERNEL_ID = 204b3c5b-e2ff-4cc6-a01e-f15190f40151\n",
      "+----------+-----+------+------+------+------+------+\n",
      "|      Date| Time|  Open|  High|   Low| Close|Volume|\n",
      "+----------+-----+------+------+------+------+------+\n",
      "|09/27/2009|18:00|  1.47|1.4701| 1.469|1.4691|   441|\n",
      "|09/27/2009|18:01|1.4691|1.4691|1.4689| 1.469|    29|\n",
      "|09/27/2009|18:02| 1.469| 1.469|1.4688|1.4688|    22|\n",
      "|09/27/2009|18:03|1.4687|1.4691|1.4687|1.4691|    38|\n",
      "|09/27/2009|18:04|1.4692|1.4693|1.4692|1.4692|    20|\n",
      "|09/27/2009|18:05|1.4692|1.4693| 1.469|1.4691|    11|\n",
      "|09/27/2009|18:06|1.4691|1.4692|1.4689|1.4692|    14|\n",
      "|09/27/2009|18:07|1.4691|1.4691| 1.469| 1.469|     6|\n",
      "|09/27/2009|18:08| 1.469|1.4691| 1.469|1.4691|     5|\n",
      "|09/27/2009|18:09| 1.469|1.4692| 1.469|1.4692|     7|\n",
      "|09/27/2009|18:10|1.4692|1.4692|1.4684|1.4685|    81|\n",
      "|09/27/2009|18:11|1.4686|1.4687|1.4683|1.4686|    63|\n",
      "|09/27/2009|18:12|1.4687|1.4688|1.4686|1.4687|     7|\n",
      "|09/27/2009|18:13|1.4687|1.4692|1.4687|1.4691|    25|\n",
      "|09/27/2009|18:14| 1.469|1.4691|1.4684|1.4688|    37|\n",
      "|09/27/2009|18:15|1.4686|1.4689|1.4686|1.4688|    66|\n",
      "|09/27/2009|18:16|1.4688|1.4688|1.4685|1.4686|    29|\n",
      "|09/27/2009|18:17|1.4685|1.4687|1.4683|1.4687|    20|\n",
      "|09/27/2009|18:18|1.4686|1.4688|1.4686|1.4688|     4|\n",
      "|09/27/2009|18:19|1.4687|1.4689|1.4687|1.4688|    10|\n",
      "+----------+-----+------+------+------+------+------+\n",
      "only showing top 20 rows\n",
      "\n"
     ]
    }
   ],
   "source": [
    "# The code was removed by Watson Studio for sharing."
   ]
  },
  {
   "cell_type": "markdown",
   "metadata": {},
   "source": [
    "#### II.  Combine Date and Time columns.  Also, these times are in EST, but I prefer CST."
   ]
  },
  {
   "cell_type": "code",
   "execution_count": 2,
   "metadata": {},
   "outputs": [
    {
     "name": "stdout",
     "output_type": "stream",
     "text": [
      "+-------------------+------+------+------+------+------+\n",
      "|          Timestamp|  Open|  High|   Low| Close|Volume|\n",
      "+-------------------+------+------+------+------+------+\n",
      "|2016-01-03 17:00:00|1.0884|1.0886|1.0882|1.0883|   215|\n",
      "|2016-01-03 17:01:00|1.0884|1.0884|1.0881|1.0882|    48|\n",
      "|2016-01-03 17:02:00|1.0883|1.0884|1.0882|1.0883|    37|\n",
      "|2016-01-03 17:03:00|1.0884|1.0884|1.0879|1.0879|    51|\n",
      "|2016-01-03 17:04:00|1.0878|1.0878|1.0873|1.0874|   133|\n",
      "|2016-01-03 17:05:00|1.0874|1.0875|1.0874|1.0875|    47|\n",
      "|2016-01-03 17:06:00|1.0875|1.0877|1.0874|1.0876|    24|\n",
      "|2016-01-03 17:07:00|1.0876|1.0876|1.0875|1.0876|    10|\n",
      "|2016-01-03 17:08:00|1.0876|1.0876|1.0876|1.0876|     3|\n",
      "|2016-01-03 17:09:00|1.0875|1.0875|1.0874|1.0874|    40|\n",
      "|2016-01-03 17:10:00|1.0875|1.0875|1.0873|1.0875|   146|\n",
      "|2016-01-03 17:11:00|1.0875|1.0877|1.0874|1.0876|   195|\n",
      "|2016-01-03 17:12:00|1.0877|1.0877|1.0877|1.0877|     6|\n",
      "|2016-01-03 17:13:00|1.0876|1.0876|1.0876|1.0876|    10|\n",
      "|2016-01-03 17:14:00|1.0877|1.0877|1.0877|1.0877|    23|\n",
      "|2016-01-03 17:15:00|1.0877|1.0877|1.0876|1.0876|     3|\n",
      "|2016-01-03 17:16:00|1.0877|1.0877|1.0877|1.0877|     8|\n",
      "|2016-01-03 17:17:00|1.0877|1.0879|1.0877|1.0879|    21|\n",
      "|2016-01-03 17:18:00|1.0878|1.0878|1.0876|1.0877|    29|\n",
      "|2016-01-03 17:19:00|1.0877|1.0877|1.0876|1.0876|    37|\n",
      "+-------------------+------+------+------+------+------+\n",
      "only showing top 20 rows\n",
      "\n"
     ]
    }
   ],
   "source": [
    "from pyspark.sql.functions import unix_timestamp, from_unixtime, concat, col, lit, hour, minute, year, lag\n",
    "from pyspark.sql.window import Window\n",
    "import pandas as pd\n",
    "import numpy as np\n",
    "import datetime\n",
    "\n",
    "# Convert Date and Time columns to Timestamps and combine\n",
    "df_raw_2 = df_raw.select(unix_timestamp(concat(col('Date'), lit(' '), col('Time')), 'MM/dd/yyyy HH:mm')\\\n",
    "                   .cast(TimestampType()).alias('Timestamp'),\n",
    "                   'Open', 'High', 'Low', 'Close', 'Volume')\n",
    "\n",
    "# now substract hour from EST timestamps for CST\n",
    "df = df_raw_2.select(from_unixtime(unix_timestamp(col('Timestamp')) - 60 * 60).alias('Timestamp'),\n",
    "                    'Open', 'High', 'Low', 'Close', 'Volume')\n",
    "\n",
    "df.createOrReplaceTempView('df')\n",
    "df_2016 = spark.sql(\"SELECT * FROM df WHERE Timestamp BETWEEN '2016-01-01' AND '2016-12-31' ORDER BY Timestamp\")\n",
    "\n",
    "df_2016.show()\n",
    "\n",
    "# pandas df for exploring at next step\n",
    "pdf_plt = df_2016.toPandas()\n",
    "pdf_plt.index = pd.to_datetime(pdf_plt.Timestamp)\n",
    "pdf_plt.drop(['Timestamp'], axis=1, inplace=True)"
   ]
  },
  {
   "cell_type": "markdown",
   "metadata": {},
   "source": [
    "#### III.  Explore Data\n",
    "\n",
    "As expected, prices are not stationary.  We will use returns rather than price to get unbiased results from our model."
   ]
  },
  {
   "cell_type": "code",
   "execution_count": 3,
   "metadata": {
    "scrolled": false
   },
   "outputs": [
    {
     "data": {
      "image/png": "[encoded data removed]",
      "text/plain": [
       "<matplotlib.figure.Figure at 0x2ac7f48f7198>"
      ]
     },
     "metadata": {},
     "output_type": "display_data"
    }
   ],
   "source": [
    "import seaborn as sns\n",
    "import matplotlib.dates as mdates\n",
    "import matplotlib.pyplot as plt\n",
    "%matplotlib inline\n",
    "\n",
    "pdf_day = pdf_plt[(pdf_plt.index >= '2016-01-05') & (pdf_plt.index < '2016-01-06')]\n",
    "sns.set_style(\"white\")\n",
    "\n",
    "fig, ax = plt.subplots(1, 2, figsize=(18, 6))\n",
    "fig.subplots_adjust(wspace=0.3)\n",
    "pdf_day['Close'].plot(ax=ax[0])\n",
    "ax[0].set_xlabel(\"Time\")\n",
    "ax[0].get_figure().autofmt_xdate()\n",
    "xfmt = mdates.DateFormatter('%H:%M')\n",
    "ax[0].xaxis.set_major_formatter(xfmt)\n",
    "ax[0].set_ylabel(\"Price\")\n",
    "ax[0].set_title(\"EUR/USD Price Movement on Jan 5, 2016\", fontsize=16)\n",
    "ax2_sub1 = ax[0].twinx()\n",
    "ax2_sub1.set_ylabel('Volume')\n",
    "ax2_sub1.bar(pdf_day.index, pdf_day['Volume'], color='g', alpha=0.2, width = 0.5 / 1400)\n",
    "\n",
    "pdf_plt['Close'].plot(ax=ax[1])\n",
    "ax[1].set_xlabel(\"Date\")\n",
    "ax[1].get_figure().autofmt_xdate()\n",
    "xfmt = mdates.DateFormatter('%m-%d')\n",
    "ax[1].xaxis.set_major_formatter(xfmt)\n",
    "ax[1].set_ylabel(\"Price\")\n",
    "ax[1].set_title(\"EUR/USD Price Movement in 2016\", fontsize=16)\n",
    "ax[1].get_figure().autofmt_xdate()\n"
   ]
  },
  {
   "cell_type": "markdown",
   "metadata": {},
   "source": [
    "Volumes are more concentrated during US daytime hours."
   ]
  },
  {
   "cell_type": "code",
   "execution_count": 4,
   "metadata": {},
   "outputs": [
    {
     "data": {
      "text/plain": [
       "Text(0.5,1,'Average Volume by Hour in 2016')"
      ]
     },
     "execution_count": 4,
     "metadata": {},
     "output_type": "execute_result"
    },
    {
     "data": {
      "image/png": "[encoded data removed]",
      "text/plain": [
       "<matplotlib.figure.Figure at 0x2ac811882e48>"
      ]
     },
     "metadata": {},
     "output_type": "display_data"
    }
   ],
   "source": [
    "sns.set_style(\"whitegrid\")\n",
    "ax = pdf_plt.groupby(pdf_plt.index.hour)['Volume'].mean().plot.bar(figsize=(18, 6), color='lightblue', title=\"\")\n",
    "ax.set_xlabel(\"Hour of Day (CST)\", fontsize=12)\n",
    "ax.set_ylabel(\"Average Volume\", fontsize=12)\n",
    "ax.set_title(\"Average Volume by Hour in 2016\", fontsize=16)"
   ]
  },
  {
   "cell_type": "markdown",
   "metadata": {},
   "source": [
    "#### IV.  Set up data for next steps\n",
    "\n",
    "Define functions for streamlined data processing"
   ]
  },
  {
   "cell_type": "code",
   "execution_count": 128,
   "metadata": {},
   "outputs": [],
   "source": [
    "from pyspark.sql import functions as F\n",
    "from sklearn.preprocessing import RobustScaler\n",
    "sc_f = RobustScaler()\n",
    "sc_y = RobustScaler()\n",
    "\n",
    "def add_price_returns(df, x):\n",
    "    '''\n",
    "    Parameters: Pyspark df with \"Close\" price column, x minute parameter\n",
    "    Returns: Pyspark df with added x price_xmin_return column\n",
    "    '''\n",
    "    df_return = df.withColumn('tmp_lag_price', lag(df.Close, count=x).over(Window.orderBy('Timestamp')))\n",
    "    col_name = 'price_' + str(x) + 'min_return'\n",
    "    df_return = df_return.withColumn(col_name, df_return.Close - df_return.tmp_lag_price).na.drop()\n",
    "    return df_return.drop('tmp_lag_price')\n",
    "\n",
    "def get_dates_times_subset(df, startYear, endYear, st, et):\n",
    "    '''\n",
    "    BE SURE TO INCLUDE ALL NEEDED DATA IN TIMESPAN!  \n",
    "    Building forecast_window and prior time_window from this data should be considered.\n",
    "    Parameters: Pyspark df with Timestamp column, startYear(YYYY), endYear(YYYY), start time (st), end time (et)\n",
    "    Returns: Pyspark df between specified dates, specific times\n",
    "    '''\n",
    "    df_return = df.filter((year('Timestamp') >= lit(startYear)) & (year('Timestamp') <= lit(endYear)))\\\n",
    "                  .filter((hour('Timestamp') >= lit(st.hour)) & (hour('Timestamp') <= lit(et.hour)))\\\n",
    "                  .filter((hour('Timestamp') != lit(st.hour)) | (minute('Timestamp') >= lit(st.minute)))\\\n",
    "                  .filter((hour('Timestamp') != lit(et.hour)) | (minute('Timestamp') <= lit(et.minute)))\n",
    "    return df_return\n",
    "\n",
    "def add_dataset_check_col(df, startTime, endTime):\n",
    "    '''\n",
    "    Parameters: Pyspark df with Timestamp column, startTime(HH:MM), endTime(HH:MM)\n",
    "    Returns: Pyspark df with \"is_in_dataset\" column, identifying rows that stay in dataset after final setup\n",
    "    '''\n",
    "    st = datetime.datetime.strptime(startTime, '%H:%M')\n",
    "    et = datetime.datetime.strptime(endTime, \"%H:%M\")\n",
    "    df_return = df.withColumn('is_in_dataset', ((hour('Timestamp') == lit(st.hour)) & (minute('Timestamp') >= lit(st.minute))) | \\\n",
    "                                        ((hour('Timestamp') == lit(et.hour)) & (minute('Timestamp') <= lit(et.minute))) | \\\n",
    "                                        ((hour('Timestamp') >= lit(min(st.hour + 1, et.hour))) & \\\n",
    "                                         (hour('Timestamp') <= lit(max(et.hour - 1, st.hour)))))\n",
    "    return df_return\n",
    "\n",
    "def get_arrays_for_lstm(df, time_window, forecast_window, batch_size):\n",
    "    '''\n",
    "    Assumes cols 5, 6 are price, volume features, 7 will be y var, and last col is datacheck bool\n",
    "    Parameters: Pyspark df, time_window, forecast_window, batch_size\n",
    "    Returns: Transformed 3D X and y np arrays for LSTM network model\n",
    "    '''\n",
    "    pdf = df.toPandas()\n",
    "    \n",
    "    # only need price returns and volumes, but keep dataset check vals for below\n",
    "    feature_set = pdf.iloc[:, 5:7].values\n",
    "    y_set = pdf.iloc[:, 7:8].values\n",
    "    is_in_dataset_check = pdf.iloc[:, -1]\n",
    "\n",
    "    # feature scaling\n",
    "    feature_set_scaled = sc_f.fit_transform(np.float64(feature_set))\n",
    "    y_set_scaled = sc_y.fit_transform(np.float64(y_set))\n",
    "\n",
    "    # filter data into needed arrays\n",
    "    x_price_train = []\n",
    "    x_volume_train = []\n",
    "    y_train = []\n",
    "\n",
    "    length = len(feature_set_scaled)\n",
    "    for i in range(0, length):\n",
    "        x_volume_train.append(feature_set_scaled[max(0, i - time_window):i, 0])\n",
    "        x_price_train.append(feature_set_scaled[max(0, i - time_window):i, 1])\n",
    "\n",
    "    for i in range(0, len(y_set_scaled)):\n",
    "        y_train.append(y_set_scaled[max(0, i-forecast_window):max(0, i-forecast_window)+1, 0])\n",
    "\n",
    "    # now that we have the time_window data, remove unwanted entries based on prior is_in_dataset_check\n",
    "    x_volume_train, x_price_train, y_train, is_in_dataset_check = \\\n",
    "        np.array(x_volume_train), np.array(x_price_train), np.array(y_train), np.array(is_in_dataset_check)\n",
    "    x_volume_train = x_volume_train[is_in_dataset_check]\n",
    "    x_price_train = x_price_train[is_in_dataset_check]\n",
    "    y_train = y_train[is_in_dataset_check]\n",
    "\n",
    "    # reduce size of dataset to be divisible by batch size\n",
    "    x_volume_train = x_volume_train[0:len(x_volume_train) - len(x_volume_train)%batch_size]\n",
    "    x_price_train = x_price_train[0:len(x_price_train) - len(x_price_train)%batch_size]\n",
    "    y_train = y_train[0:len(y_train) - len(y_train)%batch_size]\n",
    "\n",
    "    # combine and reshape for modeling\n",
    "    x_volume_train = np.reshape(np.array(x_volume_train.tolist()), (x_volume_train.shape[0], 10))\n",
    "    x_price_train = np.reshape(np.array(x_price_train.tolist()), (x_price_train.shape[0], 10))\n",
    "    X_train = np.dstack((x_price_train, x_volume_train))\n",
    "    y_train = np.reshape(np.array(y_train.tolist()), (y_train.shape[0], 1))\n",
    "    print(\"Feature set shape (standardized price & volume w/10min window): \")\n",
    "    print(X_train.shape)\n",
    "    print(X_train[0])\n",
    "    print('\\n')\n",
    "    print(\"y var shape (standardized 5min future price return): \")\n",
    "    print(y_train.shape)\n",
    "    print(y_train[0])\n",
    "    print('\\n')\n",
    "    return X_train, y_train\n",
    "\n",
    "def get_mlr_df(df, time_window, forecast_window):\n",
    "    '''\n",
    "    DOES NOT STANDARDIZE VARIABLES!\n",
    "    Parameters: Pyspark df (with Timestamp, price_1min_return, Volume, and price_5min_return, is_in_dataset cols), \n",
    "                time_window, forecast_window\n",
    "    Returns: Pyspark df with cols \"sma_price\", \"sma_volume\", \"y_price\"\n",
    "    '''\n",
    "    # add sma cols for price returns and volume (features)\n",
    "    df_return = df.withColumn('sma_price', F.avg(\"price_1min_return\")\\\n",
    "                              .over(Window.orderBy('Timestamp').rowsBetween(-time_window, 0)))\n",
    "    df_return = df_return.withColumn('sma_volume', F.avg(\"Volume\")\\\n",
    "                                     .over(Window.orderBy('Timestamp').rowsBetween(-time_window, 0)))\n",
    "    \n",
    "    # shift 5 min return col to line up y var\n",
    "    df_return = df_return.withColumn('label', \\\n",
    "                                     lag(df.price_5min_return, count=-forecast_window).over(Window.orderBy('Timestamp')))\n",
    "\n",
    "    # now that we have the time_window data, remove unwanted entries based on prior is_in_dataset_check\n",
    "    df_return = df_return.filter(df.is_in_dataset)\n",
    "\n",
    "    return df_return.drop('Open', 'High', 'Low', 'Close', 'Volume', 'price_1min_return', 'price_5min_return', 'is_in_dataset')"
   ]
  },
  {
   "cell_type": "markdown",
   "metadata": {},
   "source": [
    "##### Data will be filtered to 9:15 - 11:15AM CST\n",
    " - Common economic releases between 7:15 - 9:00AM CST may bias data if included.\n",
    " - These are generally periods of higher volume and volatility.\n",
    " - This can be revisited for building models with specific time slots.\n",
    " - Train data set will be 2013 - 2015, validation data 2016, and 2017 for test data.\n",
    "\n",
    "<br>\n",
    "\n",
    "At this point, we will also define:\n",
    " - Lookback **Time window** used in the LSTM = **10 minutes**\n",
    " - **Batch size** = **64**\n",
    " - **Forecast window** = **5 minutes**"
   ]
  },
  {
   "cell_type": "code",
   "execution_count": 16,
   "metadata": {
    "scrolled": false
   },
   "outputs": [
    {
     "name": "stdout",
     "output_type": "stream",
     "text": [
      "+-------------------+------+------+------+------+------+----------------------+----------------------+-------------+\n",
      "|Timestamp          |Open  |High  |Low   |Close |Volume|price_1min_return     |price_5min_return     |is_in_dataset|\n",
      "+-------------------+------+------+------+------+------+----------------------+----------------------+-------------+\n",
      "|2013-01-02 09:05:00|1.3266|1.3267|1.3265|1.3265|167   |-9.999999999998899E-5 |0.0                   |false        |\n",
      "|2013-01-02 09:06:00|1.3266|1.3267|1.3265|1.3266|225   |9.999999999998899E-5  |0.0                   |false        |\n",
      "|2013-01-02 09:07:00|1.3266|1.3266|1.3264|1.3265|299   |-9.999999999998899E-5 |-1.9999999999997797E-4|false        |\n",
      "|2013-01-02 09:08:00|1.3264|1.3264|1.3263|1.3263|313   |-1.9999999999997797E-4|-3.9999999999995595E-4|false        |\n",
      "|2013-01-02 09:09:00|1.3263|1.3263|1.3261|1.3261|184   |-1.9999999999997797E-4|-4.999999999999449E-4 |false        |\n",
      "|2013-01-02 09:10:00|1.3262|1.3265|1.3261|1.3265|323   |3.9999999999995595E-4 |0.0                   |false        |\n",
      "|2013-01-02 09:11:00|1.3265|1.3267|1.3264|1.3267|231   |1.9999999999997797E-4 |9.999999999998899E-5  |false        |\n",
      "|2013-01-02 09:12:00|1.3268|1.3269|1.3266|1.3266|508   |-9.999999999998899E-5 |9.999999999998899E-5  |false        |\n",
      "|2013-01-02 09:13:00|1.3267|1.3267|1.3265|1.3265|185   |-9.999999999998899E-5 |1.9999999999997797E-4 |false        |\n",
      "|2013-01-02 09:14:00|1.3266|1.3266|1.3265|1.3265|165   |0.0                   |3.9999999999995595E-4 |false        |\n",
      "+-------------------+------+------+------+------+------+----------------------+----------------------+-------------+\n",
      "only showing top 10 rows\n",
      "\n"
     ]
    }
   ],
   "source": [
    "# define important data parameters\n",
    "forecast_window = 5\n",
    "time_window = 10\n",
    "batch_size = 64\n",
    "start_time = '09:15'\n",
    "end_time = '11:15'\n",
    "\n",
    "# add price returns columns\n",
    "df = add_price_returns(df, 1)\n",
    "df = add_price_returns(df, 5)\n",
    "\n",
    "# set train data to year 2013-2015 (val data to 2016, test data to 2017)\n",
    "# include only data between needed time windows (start to end time, plus time, forecast windows added accordingly)\n",
    "st = datetime.datetime.strptime(start_time, '%H:%M') - datetime.timedelta(minutes = time_window)\n",
    "et = datetime.datetime.strptime(end_time, '%H:%M') + datetime.timedelta(minutes = forecast_window)\n",
    "df_train = get_dates_times_subset(df, 2013, 2015, st, et)\n",
    "df_val   = get_dates_times_subset(df, 2016, 2016, st, et)\n",
    "df_test  = get_dates_times_subset(df, 2017, 2017, st, et)\n",
    "\n",
    "# add a column to later filter out fields not needed in final dataset.\n",
    "df_train = add_dataset_check_col(df_train, start_time, end_time)\n",
    "df_val   = add_dataset_check_col(df_val, start_time, end_time)\n",
    "df_test  = add_dataset_check_col(df_test, start_time, end_time)\n",
    "\n",
    "df_train.show(10, False)"
   ]
  },
  {
   "cell_type": "markdown",
   "metadata": {},
   "source": [
    "##### Set up data using Close price and Volume as features"
   ]
  },
  {
   "cell_type": "code",
   "execution_count": 102,
   "metadata": {
    "scrolled": false
   },
   "outputs": [
    {
     "name": "stdout",
     "output_type": "stream",
     "text": [
      "Feature set shape (standardized price & volume w/10min window): \n",
      "(93504, 10, 2)\n",
      "[[-0.5        -0.20141343]\n",
      " [ 0.5         0.00353357]\n",
      " [-0.5         0.26501767]\n",
      " [-1.          0.31448763]\n",
      " [-1.         -0.14134276]\n",
      " [ 2.          0.34982332]\n",
      " [ 1.          0.02473498]\n",
      " [-0.5         1.00353357]\n",
      " [-0.5        -0.13780919]\n",
      " [ 0.         -0.20848057]]\n",
      "\n",
      "\n",
      "y var shape (standardized 5min future price return): \n",
      "(93504, 1)\n",
      "[-1.16666667]\n",
      "Feature set shape (standardized price & volume w/10min window): \n",
      "(31040, 10, 2)\n",
      "[[  1.25         9.125     ]\n",
      " [  2.           4.91964286]\n",
      " [ -1.           2.45982143]\n",
      " [  1.5          2.20089286]\n",
      " [ -2.5          3.75446429]\n",
      " [ -2.           1.62946429]\n",
      " [ -1.           3.92857143]\n",
      " [ -2.25         4.95535714]\n",
      " [ -4.25        10.80803571]\n",
      " [  0.5          5.25892857]]\n",
      "\n",
      "\n",
      "y var shape (standardized 5min future price return): \n",
      "(31040, 1)\n",
      "[ 3.125]\n",
      "Feature set shape (standardized price & volume w/10min window): \n",
      "(31168, 10, 2)\n",
      "[[ -0.5          1.06167401]\n",
      " [ -1.5          2.42731278]\n",
      " [ -1.           0.85903084]\n",
      " [  0.5          3.84140969]\n",
      " [ -0.5          1.11894273]\n",
      " [ -1.5          7.25991189]\n",
      " [ -2.          11.62995595]\n",
      " [  0.           1.22026432]\n",
      " [ -2.5          3.42290749]\n",
      " [ -2.5          3.18942731]]\n",
      "\n",
      "\n",
      "y var shape (standardized 5min future price return): \n",
      "(31168, 1)\n",
      "[-1.]\n"
     ]
    }
   ],
   "source": [
    "# get arrays for lstm network model\n",
    "X_train, y_train = get_arrays_for_lstm(df_train, time_window, forecast_window, batch_size)\n",
    "X_test, y_test   = get_arrays_for_lstm(df_test, time_window, forecast_window, batch_size)\n",
    "X_val, y_val     = get_arrays_for_lstm(df_val, time_window, forecast_window, batch_size)"
   ]
  },
  {
   "cell_type": "markdown",
   "metadata": {},
   "source": [
    "##### Finally, get data for Linear Regression benchmark model\n",
    "\n",
    " - Since our time_window for the LSTM model is 10 minutes, we'll use a **10 minute simple moving average (SMA) of both close price and volume** as features to predict 5 minute future returns for the MLR model."
   ]
  },
  {
   "cell_type": "code",
   "execution_count": 8,
   "metadata": {},
   "outputs": [
    {
     "name": "stdout",
     "output_type": "stream",
     "text": [
      "+-------------------+----------------------+------------------+----------------------+\n",
      "|Timestamp          |sma_price             |sma_volume        |label                 |\n",
      "+-------------------+----------------------+------------------+----------------------+\n",
      "|2013-01-02 09:15:00|-9.09090909090809E-6  |240.63636363636363|-6.999999999999229E-4 |\n",
      "|2013-01-02 09:16:00|-9.09090909090809E-6  |242.45454545454547|-6.999999999999229E-4 |\n",
      "|2013-01-02 09:17:00|-2.7272727272724268E-5|257.6363636363636 |-5.999999999999339E-4 |\n",
      "|2013-01-02 09:18:00|-5.4545454545448536E-5|263.0             |-1.9999999999997797E-4|\n",
      "|2013-01-02 09:19:00|-6.363636363637681E-5 |294.0             |-9.999999999998899E-5 |\n",
      "|2013-01-02 09:20:00|-2.7272727272724268E-5|335.0             |-9.999999999998899E-5 |\n",
      "|2013-01-02 09:21:00|-7.272727272726472E-5 |321.09090909090907|3.9999999999995595E-4 |\n",
      "|2013-01-02 09:22:00|-9.09090909090809E-5  |323.0             |3.9999999999995595E-4 |\n",
      "|2013-01-02 09:23:00|-8.18181818181728E-5  |289.45454545454544|4.999999999999449E-4  |\n",
      "|2013-01-02 09:24:00|-9.090909090910108E-5 |295.45454545454544|8.000000000001339E-4  |\n",
      "+-------------------+----------------------+------------------+----------------------+\n",
      "only showing top 10 rows\n",
      "\n"
     ]
    }
   ],
   "source": [
    "# these will be kept in a pySpark dataframe so we can later show off a Pipeline assembly in Spark\n",
    "mlr_train = get_mlr_df(df_train, time_window, forecast_window)\n",
    "mlr_test  = get_mlr_df(df_test, time_window, forecast_window)\n",
    "\n",
    "mlr_train.show(10, False)"
   ]
  },
  {
   "cell_type": "markdown",
   "metadata": {},
   "source": [
    "# Methodology\n",
    "***\n",
    "### I.  Fit the LSTM network model"
   ]
  },
  {
   "cell_type": "code",
   "execution_count": 103,
   "metadata": {},
   "outputs": [
    {
     "name": "stdout",
     "output_type": "stream",
     "text": [
      "Train on 93504 samples, validate on 31168 samples\n",
      "Epoch 1/5\n",
      "93504/93504 [==============================] - 54s 581us/step - loss: 0.5761 - val_loss: 0.6755\n",
      "Epoch 2/5\n",
      "93504/93504 [==============================] - 51s 551us/step - loss: 0.5758 - val_loss: 0.6758\n",
      "Epoch 3/5\n",
      "93504/93504 [==============================] - 52s 556us/step - loss: 0.5758 - val_loss: 0.6758\n",
      "Epoch 4/5\n",
      "93504/93504 [==============================] - 52s 557us/step - loss: 0.5756 - val_loss: 0.6759\n",
      "Epoch 5/5\n",
      "93504/93504 [==============================] - 52s 557us/step - loss: 0.5756 - val_loss: 0.6756\n"
     ]
    }
   ],
   "source": [
    "# this needs to be refit when back on Watson (and validate MLR model label inputs)\n",
    "\n",
    "from keras.layers import Dense, Dropout, Input, LSTM\n",
    "from keras.models import Sequential, load_model\n",
    "import h5py\n",
    "\n",
    "lstm = Sequential()\n",
    "lstm.add(LSTM(40, batch_input_shape=(batch_size,time_window,2), return_sequences=True, recurrent_dropout = 0.1))\n",
    "lstm.add(LSTM(30, recurrent_dropout = 0.2))\n",
    "lstm.add(Dropout(0.2))\n",
    "lstm.add(Dense(20, activation='relu'))\n",
    "lstm.add(Dropout(0.2))\n",
    "lstm.add(Dense(5, activation='relu'))\n",
    "lstm.add(Dense(1))\n",
    "lstm.compile(loss= 'mae', optimizer= 'adam')\n",
    "lstm_history = lstm.fit(X_train, y_train, epochs=5, batch_size=batch_size, shuffle=True, validation_data=(X_val, y_val))\n",
    "\n",
    "lstm.save(filepath=\"lstm.h5\")"
   ]
  },
  {
   "cell_type": "markdown",
   "metadata": {},
   "source": [
    "### I.  Fit Linear Regression Model"
   ]
  },
  {
   "cell_type": "code",
   "execution_count": 11,
   "metadata": {},
   "outputs": [],
   "source": [
    "from pyspark.ml.feature import VectorAssembler\n",
    "from pyspark.ml.feature import Normalizer\n",
    "from pyspark.ml.regression import LinearRegression\n",
    "from pyspark.ml import Pipeline\n",
    "\n",
    "# set up pipeline to define features, standardize, and instantiate Linear Regression model\n",
    "vectorAssembler = VectorAssembler(inputCols=[\"sma_price\", \"sma_volume\"], outputCol=\"features\")\n",
    "normalizer = Normalizer(inputCol=\"features\", outputCol=\"features_norm\", p=1.0)\n",
    "lr = LinearRegression(maxIter=10, regParam=0.3, elasticNetParam=0.8)\n",
    "pipeline = Pipeline(stages=[vectorAssembler, normalizer,lr])\n",
    "\n",
    "# fit LR model\n",
    "lr_model = pipeline.fit(mlr_train)\n",
    "\n",
    "lr_model.save(\"lr_model.h5\")"
   ]
  },
  {
   "cell_type": "markdown",
   "metadata": {},
   "source": [
    "### II.  Compare Mean Absolute Error on Test Data\n",
    "\n",
    "Based on this metric, it appears the Linear Regression model outperformed the LSTM network model **(BUT SEE RESULTS SECTION)**"
   ]
  },
  {
   "cell_type": "code",
   "execution_count": 126,
   "metadata": {
    "scrolled": false
   },
   "outputs": [
    {
     "name": "stdout",
     "output_type": "stream",
     "text": [
      "LSTM Mean Absolute Error (Test set): 0.00034\n",
      " MLR Mean Absolute Error (Test set): 0.00028\n"
     ]
    }
   ],
   "source": [
    "from sklearn.metrics import mean_absolute_error\n",
    "from pyspark.ml.evaluation import RegressionEvaluator\n",
    "\n",
    "lstm_pred = lstm.predict(X_test, batch_size=batch_size)\n",
    "lstm_mae = mean_absolute_error(sc_y.inverse_transform(y_test), sc_y.inverse_transform(lstm_pred))\n",
    "\n",
    "lr_pred = lr_model.transform(mlr_test)\n",
    "mae_eval = RegressionEvaluator().setMetricName(\"mae\") .setPredictionCol(\"prediction\").setLabelCol(\"label\")\n",
    "lr_mae = mae_eval.evaluate(lr_pred)\n",
    "\n",
    "print('LSTM Mean Absolute Error (Test set): ' + str(round(lstm_mae, 5)))\n",
    "print(' MLR Mean Absolute Error (Test set): ' + str(round(lr_mae, 5)))"
   ]
  },
  {
   "cell_type": "markdown",
   "metadata": {},
   "source": [
    "### CODE BELOW INSERTED TO REFIT MODEL WHEN OUTSIDE OF WATSON STUDIO"
   ]
  },
  {
   "cell_type": "code",
   "execution_count": 99,
   "metadata": {},
   "outputs": [
    {
     "data": {
      "text/html": [
       "<div>\n",
       "<style scoped>\n",
       "    .dataframe tbody tr th:only-of-type {\n",
       "        vertical-align: middle;\n",
       "    }\n",
       "\n",
       "    .dataframe tbody tr th {\n",
       "        vertical-align: top;\n",
       "    }\n",
       "\n",
       "    .dataframe thead th {\n",
       "        text-align: right;\n",
       "    }\n",
       "</style>\n",
       "<table border=\"1\" class=\"dataframe\">\n",
       "  <thead>\n",
       "    <tr style=\"text-align: right;\">\n",
       "      <th></th>\n",
       "      <th>Open</th>\n",
       "      <th>High</th>\n",
       "      <th>Low</th>\n",
       "      <th>Close</th>\n",
       "      <th>Volume</th>\n",
       "    </tr>\n",
       "    <tr>\n",
       "      <th>Timestamp</th>\n",
       "      <th></th>\n",
       "      <th></th>\n",
       "      <th></th>\n",
       "      <th></th>\n",
       "      <th></th>\n",
       "    </tr>\n",
       "  </thead>\n",
       "  <tbody>\n",
       "    <tr>\n",
       "      <th>2009-09-27 17:00:00</th>\n",
       "      <td>1.4700</td>\n",
       "      <td>1.4701</td>\n",
       "      <td>1.4690</td>\n",
       "      <td>1.4691</td>\n",
       "      <td>441</td>\n",
       "    </tr>\n",
       "    <tr>\n",
       "      <th>2009-09-27 17:01:00</th>\n",
       "      <td>1.4691</td>\n",
       "      <td>1.4691</td>\n",
       "      <td>1.4689</td>\n",
       "      <td>1.4690</td>\n",
       "      <td>29</td>\n",
       "    </tr>\n",
       "    <tr>\n",
       "      <th>2009-09-27 17:02:00</th>\n",
       "      <td>1.4690</td>\n",
       "      <td>1.4690</td>\n",
       "      <td>1.4688</td>\n",
       "      <td>1.4688</td>\n",
       "      <td>22</td>\n",
       "    </tr>\n",
       "    <tr>\n",
       "      <th>2009-09-27 17:03:00</th>\n",
       "      <td>1.4687</td>\n",
       "      <td>1.4691</td>\n",
       "      <td>1.4687</td>\n",
       "      <td>1.4691</td>\n",
       "      <td>38</td>\n",
       "    </tr>\n",
       "    <tr>\n",
       "      <th>2009-09-27 17:04:00</th>\n",
       "      <td>1.4692</td>\n",
       "      <td>1.4693</td>\n",
       "      <td>1.4692</td>\n",
       "      <td>1.4692</td>\n",
       "      <td>20</td>\n",
       "    </tr>\n",
       "  </tbody>\n",
       "</table>\n",
       "</div>"
      ],
      "text/plain": [
       "                       Open    High     Low   Close  Volume\n",
       "Timestamp                                                  \n",
       "2009-09-27 17:00:00  1.4700  1.4701  1.4690  1.4691     441\n",
       "2009-09-27 17:01:00  1.4691  1.4691  1.4689  1.4690      29\n",
       "2009-09-27 17:02:00  1.4690  1.4690  1.4688  1.4688      22\n",
       "2009-09-27 17:03:00  1.4687  1.4691  1.4687  1.4691      38\n",
       "2009-09-27 17:04:00  1.4692  1.4693  1.4692  1.4692      20"
      ]
     },
     "execution_count": 99,
     "metadata": {},
     "output_type": "execute_result"
    }
   ],
   "source": [
    "# tmp cell to bring in everything again now that I'm not in Watson\n",
    "import pandas as pd\n",
    "import numpy as np\n",
    "from datetime import datetime, timedelta\n",
    "df = pd.read_csv('EU.txt', names=['Time', 'Open', 'High', 'Low', 'Close', 'Volume'], header=None)\n",
    "df['Timestamp'] = pd.to_datetime(df.index + ' ' + df['Time'], format='%m/%d/%Y %H:%M') - timedelta(hours=1)\n",
    "df.set_index('Timestamp', inplace=True)\n",
    "df.drop(['Time'], axis=1, inplace=True)\n",
    "df.head()"
   ]
  },
  {
   "cell_type": "code",
   "execution_count": 100,
   "metadata": {},
   "outputs": [],
   "source": [
    "from sklearn.preprocessing import RobustScaler\n",
    "sc_f = RobustScaler()\n",
    "sc_y = RobustScaler()\n",
    "\n",
    "def pd_add_price_returns(df, x):\n",
    "    '''\n",
    "    Parameters: df with \"Close\" price column, x minute parameter\n",
    "    Returns: df with added x price_xmin_return column\n",
    "    '''\n",
    "    df_return = df\n",
    "    df_return['tmp_lag_price'] = df_return['Close'].shift(x)\n",
    "    col_name = 'price_' + str(x) + 'min_return'\n",
    "    df_return[col_name] = df_return['Close'] - df_return['tmp_lag_price']\n",
    "    df_return.drop(['tmp_lag_price'], axis=1, inplace=True)\n",
    "    return df_return\n",
    "\n",
    "def pd_price_returns_ma(df, x):\n",
    "    '''\n",
    "    Parameters: df with 'price_' + str(x) + 'min_return' column, x minute sma length\n",
    "    Returns: df with added sma column\n",
    "    '''\n",
    "    df_return = df\n",
    "    df_return['sma'] = df_return['price_1min_return'].rolling(x, min_periods=1).mean()\n",
    "    return df_return\n",
    "\n",
    "def pd_get_dates_times_subset(df, startYear, endYear, st, et):\n",
    "    '''\n",
    "    BE SURE TO INCLUDE ALL NEEDED DATA IN TIMESPAN!  \n",
    "    Building forecast_window and prior time_window from this data should be considered.\n",
    "    Parameters: df with Timestamp column, startYear(YYYY), endYear(YYYY), start time (st), end time (et)\n",
    "    Returns: df between specified dates, specific times\n",
    "    '''\n",
    "    df_return = df.between_time(st, et)\n",
    "    df_return = df_return[(df_return.index.year >= startYear) & (df_return.index.year <= endYear)]\n",
    "    return df_return\n",
    "\n",
    "def pd_add_dataset_check_col(df, startTime, endTime):\n",
    "    '''\n",
    "    Parameters: df with Timestamp column, startTime(HH:MM), endTime(HH:MM)\n",
    "    Returns: df with \"is_in_dataset\" column, identifying rows that stay in dataset after final setup\n",
    "    '''\n",
    "    df_return = df\n",
    "    df_return['is_in_dataset'] = False\n",
    "    df_return['is_in_dataset'] = df_return.index.isin(df_return.between_time(startTime, endTime).index)\n",
    "    return df_return\n",
    "\n",
    "def pd_get_arrays_for_lstm(df, time_window, forecast_window, batch_size):\n",
    "    '''\n",
    "    Assumes cols 5, 6 are price, volume features, 7 will be y var, and last col is datacheck bool\n",
    "    Parameters: df, time_window, forecast_window, batch_size\n",
    "    Returns: Transformed 3D X and y np arrays for LSTM network model\n",
    "    '''\n",
    "    pdf = df\n",
    "    \n",
    "    # only need price returns and volumes, but keep dataset check vals for below\n",
    "    feature_set = pdf.iloc[:, 4:7].values\n",
    "    y_set = pdf.iloc[:, 7:8].values\n",
    "    is_in_dataset_check = pdf.iloc[:, -1]\n",
    "\n",
    "    # feature scaling\n",
    "    feature_set_scaled = sc_f.fit_transform(np.float64(feature_set))\n",
    "    y_set_scaled = sc_y.fit_transform(np.float64(y_set))\n",
    "\n",
    "    # filter data into needed arrays\n",
    "    x_price_train = []\n",
    "    x_volume_train = []\n",
    "    x_ma_train = []\n",
    "    y_train = []\n",
    "\n",
    "    length = len(feature_set_scaled)\n",
    "    for i in range(0, length):\n",
    "        x_volume_train.append(feature_set_scaled[max(0, i - time_window):i, 0])\n",
    "        x_price_train.append(feature_set_scaled[max(0, i - time_window):i, 1])\n",
    "        x_ma_train.append(feature_set_scaled[max(0, i - time_window):i, 2])\n",
    "\n",
    "\n",
    "    for i in range(0, len(y_set_scaled)):\n",
    "        y_train.append(y_set_scaled[max(0, i-forecast_window):max(0, i-forecast_window)+1, 0])\n",
    "\n",
    "    # now that we have the time_window data, remove unwanted entries based on prior is_in_dataset_check\n",
    "    x_volume_train, x_price_train, x_ma_train, y_train, is_in_dataset_check = \\\n",
    "        np.array(x_volume_train), np.array(x_price_train), np.array(x_ma_train), np.array(y_train), np.array(is_in_dataset_check)\n",
    "    x_volume_train = x_volume_train[is_in_dataset_check]\n",
    "    x_price_train = x_price_train[is_in_dataset_check]\n",
    "    x_ma_train = x_ma_train[is_in_dataset_check]\n",
    "    y_train = y_train[is_in_dataset_check]\n",
    "\n",
    "    # reduce size of dataset to be divisible by batch size\n",
    "    x_volume_train = x_volume_train[0:len(x_volume_train) - len(x_volume_train)%batch_size]\n",
    "    x_price_train = x_price_train[0:len(x_price_train) - len(x_price_train)%batch_size]\n",
    "    x_ma_train = x_ma_train[0:len(x_ma_train) - len(x_ma_train)%batch_size]\n",
    "    y_train = y_train[0:len(y_train) - len(y_train)%batch_size]\n",
    "\n",
    "    # combine and reshape for modeling\n",
    "    x_volume_train = np.reshape(np.array(x_volume_train.tolist()), (x_volume_train.shape[0], 10))\n",
    "    x_price_train = np.reshape(np.array(x_price_train.tolist()), (x_price_train.shape[0], 10))\n",
    "    x_ma_train = np.reshape(np.array(x_ma_train.tolist()), (x_ma_train.shape[0], 10))\n",
    "    X_train = np.dstack((x_price_train, x_volume_train, x_ma_train))\n",
    "    y_train = np.reshape(np.array(y_train.tolist()), (y_train.shape[0], 1))\n",
    "    print(\"Feature set shape (standardized price & volume w/10min window): \")\n",
    "    print(X_train.shape)\n",
    "    print(X_train[0])\n",
    "    print('\\n')\n",
    "    print(\"y var shape (standardized 5min future price return): \")\n",
    "    print(y_train.shape)\n",
    "    print(y_train[0])\n",
    "    print('\\n')\n",
    "    return X_train, y_train"
   ]
  },
  {
   "cell_type": "code",
   "execution_count": 101,
   "metadata": {
    "scrolled": true
   },
   "outputs": [
    {
     "data": {
      "text/html": [
       "<div>\n",
       "<style scoped>\n",
       "    .dataframe tbody tr th:only-of-type {\n",
       "        vertical-align: middle;\n",
       "    }\n",
       "\n",
       "    .dataframe tbody tr th {\n",
       "        vertical-align: top;\n",
       "    }\n",
       "\n",
       "    .dataframe thead th {\n",
       "        text-align: right;\n",
       "    }\n",
       "</style>\n",
       "<table border=\"1\" class=\"dataframe\">\n",
       "  <thead>\n",
       "    <tr style=\"text-align: right;\">\n",
       "      <th></th>\n",
       "      <th>Open</th>\n",
       "      <th>High</th>\n",
       "      <th>Low</th>\n",
       "      <th>Close</th>\n",
       "      <th>Volume</th>\n",
       "      <th>price_1min_return</th>\n",
       "      <th>sma</th>\n",
       "      <th>price_5min_return</th>\n",
       "      <th>is_in_dataset</th>\n",
       "    </tr>\n",
       "    <tr>\n",
       "      <th>Timestamp</th>\n",
       "      <th></th>\n",
       "      <th></th>\n",
       "      <th></th>\n",
       "      <th></th>\n",
       "      <th></th>\n",
       "      <th></th>\n",
       "      <th></th>\n",
       "      <th></th>\n",
       "      <th></th>\n",
       "    </tr>\n",
       "  </thead>\n",
       "  <tbody>\n",
       "    <tr>\n",
       "      <th>2016-01-04 09:05:00</th>\n",
       "      <td>1.0857</td>\n",
       "      <td>1.0859</td>\n",
       "      <td>1.0856</td>\n",
       "      <td>1.0856</td>\n",
       "      <td>423</td>\n",
       "      <td>-0.0001</td>\n",
       "      <td>-0.00014</td>\n",
       "      <td>-0.0007</td>\n",
       "      <td>False</td>\n",
       "    </tr>\n",
       "    <tr>\n",
       "      <th>2016-01-04 09:06:00</th>\n",
       "      <td>1.0855</td>\n",
       "      <td>1.0856</td>\n",
       "      <td>1.0851</td>\n",
       "      <td>1.0853</td>\n",
       "      <td>733</td>\n",
       "      <td>-0.0003</td>\n",
       "      <td>-0.00014</td>\n",
       "      <td>-0.0007</td>\n",
       "      <td>False</td>\n",
       "    </tr>\n",
       "    <tr>\n",
       "      <th>2016-01-04 09:07:00</th>\n",
       "      <td>1.0854</td>\n",
       "      <td>1.0856</td>\n",
       "      <td>1.0851</td>\n",
       "      <td>1.0851</td>\n",
       "      <td>377</td>\n",
       "      <td>-0.0002</td>\n",
       "      <td>-0.00010</td>\n",
       "      <td>-0.0005</td>\n",
       "      <td>False</td>\n",
       "    </tr>\n",
       "    <tr>\n",
       "      <th>2016-01-04 09:08:00</th>\n",
       "      <td>1.0852</td>\n",
       "      <td>1.0855</td>\n",
       "      <td>1.0850</td>\n",
       "      <td>1.0852</td>\n",
       "      <td>1054</td>\n",
       "      <td>0.0001</td>\n",
       "      <td>-0.00010</td>\n",
       "      <td>-0.0005</td>\n",
       "      <td>False</td>\n",
       "    </tr>\n",
       "    <tr>\n",
       "      <th>2016-01-04 09:09:00</th>\n",
       "      <td>1.0852</td>\n",
       "      <td>1.0856</td>\n",
       "      <td>1.0850</td>\n",
       "      <td>1.0851</td>\n",
       "      <td>436</td>\n",
       "      <td>-0.0001</td>\n",
       "      <td>-0.00012</td>\n",
       "      <td>-0.0006</td>\n",
       "      <td>False</td>\n",
       "    </tr>\n",
       "  </tbody>\n",
       "</table>\n",
       "</div>"
      ],
      "text/plain": [
       "                       Open    High     Low   Close  Volume  \\\n",
       "Timestamp                                                     \n",
       "2016-01-04 09:05:00  1.0857  1.0859  1.0856  1.0856     423   \n",
       "2016-01-04 09:06:00  1.0855  1.0856  1.0851  1.0853     733   \n",
       "2016-01-04 09:07:00  1.0854  1.0856  1.0851  1.0851     377   \n",
       "2016-01-04 09:08:00  1.0852  1.0855  1.0850  1.0852    1054   \n",
       "2016-01-04 09:09:00  1.0852  1.0856  1.0850  1.0851     436   \n",
       "\n",
       "                     price_1min_return      sma  price_5min_return  \\\n",
       "Timestamp                                                            \n",
       "2016-01-04 09:05:00            -0.0001 -0.00014            -0.0007   \n",
       "2016-01-04 09:06:00            -0.0003 -0.00014            -0.0007   \n",
       "2016-01-04 09:07:00            -0.0002 -0.00010            -0.0005   \n",
       "2016-01-04 09:08:00             0.0001 -0.00010            -0.0005   \n",
       "2016-01-04 09:09:00            -0.0001 -0.00012            -0.0006   \n",
       "\n",
       "                     is_in_dataset  \n",
       "Timestamp                           \n",
       "2016-01-04 09:05:00          False  \n",
       "2016-01-04 09:06:00          False  \n",
       "2016-01-04 09:07:00          False  \n",
       "2016-01-04 09:08:00          False  \n",
       "2016-01-04 09:09:00          False  "
      ]
     },
     "execution_count": 101,
     "metadata": {},
     "output_type": "execute_result"
    }
   ],
   "source": [
    "# define important data parameters\n",
    "forecast_window = 5\n",
    "time_window = 10\n",
    "batch_size = 64\n",
    "start_time = '09:15'\n",
    "end_time = '11:15'\n",
    "\n",
    "# add price returns columns, and ma\n",
    "df_a = pd_add_price_returns(df, 1)\n",
    "df_a = pd_price_returns_ma(df_a, 5)\n",
    "df_a = pd_add_price_returns(df_a, 5)\n",
    "df_a.dropna(inplace=True)\n",
    "\n",
    "# set train data to year 2013-2015 (val data to 2016, test data to 2017)\n",
    "# include only data between needed time windows (start to end time, plus time, forecast windows added accordingly)\n",
    "df_train = pd_get_dates_times_subset(df_a, 2013, 2015, '09:05', '11:20')\n",
    "df_val   = pd_get_dates_times_subset(df_a, 2016, 2016, '09:05', '11:20')\n",
    "df_test  = pd_get_dates_times_subset(df_a, 2017, 2017, '09:05', '11:20')\n",
    "\n",
    "# add a column to later filter out fields not needed in final dataset.\n",
    "df_train = pd_add_dataset_check_col(df_train, start_time, end_time)\n",
    "df_val   = pd_add_dataset_check_col(df_val, start_time, end_time)\n",
    "df_test  = pd_add_dataset_check_col(df_test, start_time, end_time)\n",
    "\n",
    "df_val.head()"
   ]
  },
  {
   "cell_type": "code",
   "execution_count": 102,
   "metadata": {},
   "outputs": [
    {
     "name": "stdout",
     "output_type": "stream",
     "text": [
      "Feature set shape (standardized price & volume w/10min window): \n",
      "(93504, 10, 3)\n",
      "[[-0.5        -0.20141343  0.        ]\n",
      " [ 0.5         0.00353357  0.        ]\n",
      " [-0.5         0.26501767 -0.33333333]\n",
      " [-1.          0.31448763 -0.66666667]\n",
      " [-1.         -0.14134276 -0.83333333]\n",
      " [ 2.          0.34982332  0.        ]\n",
      " [ 1.          0.02473498  0.16666667]\n",
      " [-0.5         1.00353357  0.16666667]\n",
      " [-0.5        -0.13780919  0.33333333]\n",
      " [ 0.         -0.20848057  0.66666667]]\n",
      "\n",
      "\n",
      "y var shape (standardized 5min future price return): \n",
      "(93504, 1)\n",
      "[0.]\n",
      "\n",
      "\n",
      "Feature set shape (standardized price & volume w/10min window): \n",
      "(31040, 10, 3)\n",
      "[[ 1.25        9.125      -3.625     ]\n",
      " [ 2.          4.91964286 -1.875     ]\n",
      " [-1.          2.45982143 -2.25      ]\n",
      " [ 1.5         2.20089286 -1.5       ]\n",
      " [-2.5         3.75446429  0.625     ]\n",
      " [-2.          1.62946429 -1.        ]\n",
      " [-1.          3.92857143 -2.5       ]\n",
      " [-2.25        4.95535714 -3.125     ]\n",
      " [-4.25       10.80803571 -6.        ]\n",
      " [ 0.5         5.25892857 -4.5       ]]\n",
      "\n",
      "\n",
      "y var shape (standardized 5min future price return): \n",
      "(31040, 1)\n",
      "[-1.]\n",
      "\n",
      "\n",
      "Feature set shape (standardized price & volume w/10min window): \n",
      "(31168, 10, 3)\n",
      "[[-0.5         1.06167401 -1.4       ]\n",
      " [-1.5         2.42731278 -1.4       ]\n",
      " [-1.          0.85903084 -1.        ]\n",
      " [ 0.5         3.84140969 -1.        ]\n",
      " [-0.5         1.11894273 -1.2       ]\n",
      " [-1.5         7.25991189 -1.6       ]\n",
      " [-2.         11.62995595 -1.8       ]\n",
      " [ 0.          1.22026432 -1.4       ]\n",
      " [-2.5         3.42290749 -2.6       ]\n",
      " [-2.5         3.18942731 -3.4       ]]\n",
      "\n",
      "\n",
      "y var shape (standardized 5min future price return): \n",
      "(31168, 1)\n",
      "[-1.6]\n",
      "\n",
      "\n"
     ]
    }
   ],
   "source": [
    "# get arrays for lstm network model\n",
    "X_train, y_train = pd_get_arrays_for_lstm(df_train, time_window, forecast_window, batch_size)\n",
    "X_test, y_test   = pd_get_arrays_for_lstm(df_test, time_window, forecast_window, batch_size)\n",
    "X_val, y_val     = pd_get_arrays_for_lstm(df_val, time_window, forecast_window, batch_size)"
   ]
  },
  {
   "cell_type": "code",
   "execution_count": 103,
   "metadata": {},
   "outputs": [
    {
     "name": "stdout",
     "output_type": "stream",
     "text": [
      "Train on 93504 samples, validate on 31168 samples\n",
      "Epoch 1/15\n",
      "93504/93504 [==============================] - 14s 154us/step - loss: 0.2483 - val_loss: 0.2310\n",
      "Epoch 2/15\n",
      "93504/93504 [==============================] - 12s 127us/step - loss: 0.2021 - val_loss: 0.2153\n",
      "Epoch 3/15\n",
      "93504/93504 [==============================] - 12s 126us/step - loss: 0.1724 - val_loss: 0.1891\n",
      "Epoch 4/15\n",
      "93504/93504 [==============================] - 12s 126us/step - loss: 0.1269 - val_loss: 0.1444\n",
      "Epoch 5/15\n",
      "93504/93504 [==============================] - 12s 125us/step - loss: 0.0969 - val_loss: 0.1360\n",
      "Epoch 6/15\n",
      "93504/93504 [==============================] - 12s 126us/step - loss: 0.0818 - val_loss: 0.1410\n",
      "Epoch 7/15\n",
      "93504/93504 [==============================] - 12s 129us/step - loss: 0.0735 - val_loss: 0.1215\n",
      "Epoch 8/15\n",
      "93504/93504 [==============================] - 12s 129us/step - loss: 0.0691 - val_loss: 0.1240\n",
      "Epoch 9/15\n",
      "93504/93504 [==============================] - 12s 128us/step - loss: 0.0636 - val_loss: 0.1363\n",
      "Epoch 10/15\n",
      "93504/93504 [==============================] - 12s 128us/step - loss: 0.0593 - val_loss: 0.1292\n",
      "Epoch 11/15\n",
      "93504/93504 [==============================] - 12s 126us/step - loss: 0.0567 - val_loss: 0.1343\n",
      "Epoch 12/15\n",
      "93504/93504 [==============================] - 12s 129us/step - loss: 0.0535 - val_loss: 0.1488\n",
      "Epoch 13/15\n",
      "93504/93504 [==============================] - 12s 130us/step - loss: 0.0508 - val_loss: 0.1241\n",
      "Epoch 14/15\n",
      "93504/93504 [==============================] - 12s 130us/step - loss: 0.0478 - val_loss: 0.1469\n",
      "Epoch 15/15\n",
      "93504/93504 [==============================] - 12s 128us/step - loss: 0.0464 - val_loss: 0.1421\n",
      "LSTM Mean Absolute Error (Test set): 8e-05\n"
     ]
    }
   ],
   "source": [
    "from keras.layers import Dense, Dropout, Input, LSTM\n",
    "from keras.models import Sequential, load_model\n",
    "import h5py\n",
    "\n",
    "lstm = Sequential()\n",
    "lstm.add(LSTM(40, batch_input_shape=(batch_size,time_window,3), return_sequences=True, recurrent_dropout = 0.1))\n",
    "lstm.add(LSTM(30, recurrent_dropout = 0.2))\n",
    "lstm.add(Dropout(0.2))\n",
    "lstm.add(Dense(20, activation='relu'))\n",
    "lstm.add(Dropout(0.2))\n",
    "lstm.add(Dense(5, activation='relu'))\n",
    "lstm.add(Dense(1))\n",
    "lstm.compile(loss= 'mae', optimizer= 'adam')\n",
    "lstm.reset_states()\n",
    "lstm_history = lstm.fit(X_train, y_train, epochs=15, batch_size=batch_size, shuffle=True, validation_data=(X_val, y_val))\n",
    "\n",
    "lstm.save(filepath=\"lstm.h5\")\n",
    "\n",
    "\n",
    "from sklearn.metrics import mean_absolute_error\n",
    "\n",
    "lstm_pred = lstm.predict(X_test, batch_size=batch_size)\n",
    "lstm_mae = mean_absolute_error(sc_y.inverse_transform(y_test), sc_y.inverse_transform(lstm_pred))\n",
    "\n",
    "print('LSTM Mean Absolute Error (Test set): ' + str(round(lstm_mae, 5)))"
   ]
  },
  {
   "cell_type": "markdown",
   "metadata": {},
   "source": [
    "### CODE ABOVE INSERTED TO REFIT MODEL OUTSIDE OF WATSON STUDIO"
   ]
  },
  {
   "cell_type": "markdown",
   "metadata": {},
   "source": [
    "# Results\n",
    "***\n",
    "### Both models fit test data *well* with LSTM network outperforming...\n",
    " - <strong style=\"color:red\">BUT predictions appear to lag</strong>\n",
    " - The 5 minute ahead predictions tend to be near equal to existing price.\n",
    "   - Unfortunately, that shows us price forecasting is difficult!"
   ]
  },
  {
   "cell_type": "code",
   "execution_count": 104,
   "metadata": {
    "scrolled": false
   },
   "outputs": [
    {
     "data": {
      "text/plain": [
       "<matplotlib.legend.Legend at 0x28844c849b0>"
      ]
     },
     "execution_count": 104,
     "metadata": {},
     "output_type": "execute_result"
    },
    {
     "data": {
      "image/png": "[encoded data removed]",
      "text/plain": [
       "<Figure size 1296x432 with 2 Axes>"
      ]
     },
     "metadata": {},
     "output_type": "display_data"
    }
   ],
   "source": [
    "# at this point, I've reached my usage limit on IBM Watson Studio, \n",
    "# so I'm going to recreate the LSTM model above outside of Watson Studio. DONE\n",
    "import seaborn as sns\n",
    "import matplotlib.dates as mdates\n",
    "import matplotlib.pyplot as plt\n",
    "%matplotlib inline\n",
    "\n",
    "# this is ugly due to methods when shifting between Spark when in Watson studio, and not\n",
    "# had to reshift price_5min_return and resize df in order to lineup with predictions\n",
    "df_test_2 = df_test\n",
    "df_test_2['5min_return'] = df_test_2['price_5min_return'].shift(-5)\n",
    "df_test_2 = df_test_2[df_test_2.is_in_dataset][0:len(sc_y.inverse_transform(lstm_pred))]\n",
    "df_test_2['prediction'] = sc_y.inverse_transform(lstm_pred)\n",
    "df_test_2['price_5min_pred'] = df_test_2['Close'] + df_test_2['prediction']\n",
    "\n",
    "# pick random day that isn't start of year where very uncommonly low volume exists\n",
    "df_2017_02_06 = df_test_2[(df_test_2.index >= '2017-02-06') & (df_test_2.index <= '2017-02-07')]\n",
    "\n",
    "fig, ax = plt.subplots(1, 2, figsize=(18, 6))\n",
    "fig.subplots_adjust(wspace=0.3)\n",
    "df_2017_02_06['5min_return'].plot(ax=ax[0])\n",
    "df_2017_02_06['prediction'].plot(ax=ax[0], )\n",
    "ax[0].set_ylabel(\"Returns\")\n",
    "ax[0].set_title(\"EUR/USD Returns vs Prediction on Feb 6, 2017\", fontsize=16)\n",
    "ax[0].legend()\n",
    "\n",
    "df_2017_02_06['Close'].plot(ax=ax[1])\n",
    "df_2017_02_06['price_5min_pred'].plot(ax=ax[1])\n",
    "ax[1].set_ylabel(\"Price\")\n",
    "ax[1].set_title(\"EUR/USD Price vs Prediction on Feb 6, 2017\", fontsize=16)\n",
    "ax[1].legend()"
   ]
  },
  {
   "cell_type": "markdown",
   "metadata": {},
   "source": [
    "### Alternatively, a classification metric can be created to assess and compare model accuracy\n",
    "\n",
    "Accuracy:  Prediction Direction Correct / Total"
   ]
  },
  {
   "cell_type": "code",
   "execution_count": 109,
   "metadata": {},
   "outputs": [
    {
     "name": "stdout",
     "output_type": "stream",
     "text": [
      "Model Direction Accuracy: 45.52%\n"
     ]
    }
   ],
   "source": [
    "# Accuracy, as calculated based on  (Prediction Direction Correct / Total), here for LSTM and LR\n",
    "df_test_2['direction_correct'] = df_test_2['5min_return'] * df_test_2['prediction'] > 0\n",
    "print('Model Direction Accuracy: ' + str(round(df_test_2['direction_correct'].mean()*100, 2)) + '%')"
   ]
  },
  {
   "cell_type": "markdown",
   "metadata": {},
   "source": [
    "# Discussion\n",
    "***\n",
    "### Can a pricing model offer profit opportunities?\n",
    " - A basic Backtester can answer this\n",
    "   - Backtester will enter long position if price return > **threshold**, short if price return < **threshold**, and get flat if back to price return reverts to 0.\n",
    "   - Parameters include:\n",
    "     - **threshold**: This is specified above.\n",
    "     - **slippage**: Amount of payup to enter a trade beyond closing price.  Should consider bid/ask spread and transaction costs. \n",
    " - Reminder of CME EUR/USD Contract details:\n",
    "     - Money Per Point:  125,000\n",
    "     - Minimum Tick:  0.00005\n",
    "     - $6.25 / tick"
   ]
  },
  {
   "cell_type": "code",
   "execution_count": 106,
   "metadata": {},
   "outputs": [],
   "source": [
    "#backtester here, with profit output, chart"
   ]
  },
  {
   "cell_type": "markdown",
   "metadata": {},
   "source": [
    "### Future considerations\n",
    " - list here.  also put references here"
   ]
  },
  {
   "cell_type": "markdown",
   "metadata": {},
   "source": [
    "# Conclusion\n",
    "***\n",
    "Price forecasting is difficult."
   ]
  },
  {
   "cell_type": "code",
   "execution_count": null,
   "metadata": {},
   "outputs": [],
   "source": []
  }
 ],
 "metadata": {
  "kernelspec": {
   "display_name": "Python 3",
   "language": "python",
   "name": "python3"
  },
  "language_info": {
   "codemirror_mode": {
    "name": "ipython",
    "version": 3
   },
   "file_extension": ".py",
   "mimetype": "text/x-python",
   "name": "python",
   "nbconvert_exporter": "python",
   "pygments_lexer": "ipython3",
   "version": "3.6.5"
  }
 },
 "nbformat": 4,
 "nbformat_minor": 1
}
