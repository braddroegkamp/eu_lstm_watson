{
 "cells": [
  {
   "cell_type": "markdown",
   "metadata": {},
   "source": [
    "# Model Definition"
   ]
  },
  {
   "cell_type": "code",
   "execution_count": null,
   "metadata": {},
   "outputs": [],
   "source": [
    "from keras.layers import Dense, Dropout, Input, LSTM\n",
    "from keras.models import Sequential, load_model\n",
    "import h5py\n",
    "\n",
    "lstm = Sequential()\n",
    "lstm.add(LSTM(40, batch_input_shape=(batch_size,time_window,2), return_sequences=True, recurrent_dropout = 0.1))\n",
    "lstm.add(LSTM(30, recurrent_dropout = 0.2))\n",
    "lstm.add(Dropout(0.2))\n",
    "lstm.add(Dense(20, activation='relu'))\n",
    "lstm.add(Dropout(0.2))\n",
    "lstm.add(Dense(5, activation='relu'))\n",
    "lstm.add(Dense(1))\n",
    "lstm.compile(loss= 'mae', optimizer= 'adam')"
   ]
  },
  {
   "cell_type": "code",
   "execution_count": null,
   "metadata": {},
   "outputs": [],
   "source": [
    "from pyspark.ml.feature import VectorAssembler\n",
    "from pyspark.ml.feature import Normalizer\n",
    "from pyspark.ml.regression import LinearRegression\n",
    "from pyspark.ml import Pipeline\n",
    "\n",
    "# set up pipeline to define features, standardize, and instantiate Linear Regression model\n",
    "vectorAssembler = VectorAssembler(inputCols=[\"sma_price\", \"sma_volume\"], outputCol=\"features\")\n",
    "normalizer = Normalizer(inputCol=\"features\", outputCol=\"features_norm\", p=1.0)\n",
    "lr = LinearRegression(maxIter=10, regParam=0.3, elasticNetParam=0.8)\n",
    "pipeline = Pipeline(stages=[vectorAssembler, normalizer,lr])"
   ]
  }
 ],
 "metadata": {
  "kernelspec": {
   "display_name": "Python 3",
   "language": "python",
   "name": "python3"
  },
  "language_info": {
   "codemirror_mode": {
    "name": "ipython",
    "version": 3
   },
   "file_extension": ".py",
   "mimetype": "text/x-python",
   "name": "python",
   "nbconvert_exporter": "python",
   "pygments_lexer": "ipython3",
   "version": "3.6.5"
  }
 },
 "nbformat": 4,
 "nbformat_minor": 2
}
