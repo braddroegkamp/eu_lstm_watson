{
 "cells": [
  {
   "cell_type": "markdown",
   "metadata": {},
   "source": [
    "# ETL"
   ]
  },
  {
   "cell_type": "code",
   "execution_count": null,
   "metadata": {},
   "outputs": [],
   "source": [
    "from pyspark.sql.types import StructType, StructField, StringType, DoubleType, IntegerType, TimestampType\n",
    "\n",
    "# first need to define schema (Date and Time types will be addressed later)\n",
    "schema = StructType([\n",
    "    StructField('Date', StringType()),\n",
    "    StructField('Time', StringType()),\n",
    "    StructField('Open', DoubleType()),\n",
    "    StructField('High', DoubleType()),\n",
    "    StructField('Low', DoubleType()),\n",
    "    StructField('Close', DoubleType()),\n",
    "    StructField('Volume', IntegerType())\n",
    "])\n",
    "\n",
    "# The code was removed by Watson Studio for sharing.\n",
    "\n",
    "from pyspark.sql import SparkSession\n",
    "spark = SparkSession.builder.getOrCreate()\n",
    "df_raw = spark.read.csv(cos.url('EU.txt', ''), \n",
    "                    header=False, schema=schema)\n",
    "df_raw.show()"
   ]
  },
  {
   "cell_type": "code",
   "execution_count": null,
   "metadata": {},
   "outputs": [],
   "source": [
    "from pyspark.sql.functions import unix_timestamp, from_unixtime, concat, col, lit, hour, minute, year, lag\n",
    "from pyspark.sql.window import Window\n",
    "import pandas as pd\n",
    "import numpy as np\n",
    "import datetime\n",
    "\n",
    "# Convert Date and Time columns to Timestamps and combine\n",
    "df_raw_2 = df_raw.select(unix_timestamp(concat(col('Date'), lit(' '), col('Time')), 'MM/dd/yyyy HH:mm')\\\n",
    "                   .cast(TimestampType()).alias('Timestamp'),\n",
    "                   'Open', 'High', 'Low', 'Close', 'Volume')\n",
    "\n",
    "# now substract hour from EST timestamps for CST\n",
    "df = df_raw_2.select(from_unixtime(unix_timestamp(col('Timestamp')) - 60 * 60).alias('Timestamp'),\n",
    "                    'Open', 'High', 'Low', 'Close', 'Volume')\n",
    "\n",
    "df.createOrReplaceTempView('df')\n",
    "df_2016 = spark.sql(\"SELECT * FROM df WHERE Timestamp BETWEEN '2016-01-01' AND '2016-12-31' ORDER BY Timestamp\")\n",
    "\n",
    "df_2016.show()\n",
    "\n",
    "# pandas df for exploring at next step\n",
    "pdf_plt = df_2016.toPandas()\n",
    "pdf_plt.index = pd.to_datetime(pdf_plt.Timestamp)\n",
    "pdf_plt.drop(['Timestamp'], axis=1, inplace=True)"
   ]
  }
 ],
 "metadata": {
  "kernelspec": {
   "display_name": "Python 3",
   "language": "python",
   "name": "python3"
  },
  "language_info": {
   "codemirror_mode": {
    "name": "ipython",
    "version": 3
   },
   "file_extension": ".py",
   "mimetype": "text/x-python",
   "name": "python",
   "nbconvert_exporter": "python",
   "pygments_lexer": "ipython3",
   "version": "3.6.5"
  }
 },
 "nbformat": 4,
 "nbformat_minor": 2
}
