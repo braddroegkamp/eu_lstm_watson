{
 "cells": [
  {
   "cell_type": "markdown",
   "metadata": {},
   "source": [
    "# Data Exploration"
   ]
  },
  {
   "cell_type": "code",
   "execution_count": null,
   "metadata": {},
   "outputs": [],
   "source": [
    "import seaborn as sns\n",
    "import matplotlib.dates as mdates\n",
    "import matplotlib.pyplot as plt\n",
    "%matplotlib inline\n",
    "\n",
    "pdf_day = pdf_plt[(pdf_plt.index >= '2016-01-05') & (pdf_plt.index < '2016-01-06')]\n",
    "sns.set_style(\"white\")\n",
    "\n",
    "fig, ax = plt.subplots(1, 2, figsize=(18, 6))\n",
    "fig.subplots_adjust(wspace=0.3)\n",
    "pdf_day['Close'].plot(ax=ax[0])\n",
    "ax[0].set_xlabel(\"Time\")\n",
    "ax[0].get_figure().autofmt_xdate()\n",
    "xfmt = mdates.DateFormatter('%H:%M')\n",
    "ax[0].xaxis.set_major_formatter(xfmt)\n",
    "ax[0].set_ylabel(\"Price\")\n",
    "ax[0].set_title(\"EUR/USD Price Movement on Jan 5, 2016\", fontsize=16)\n",
    "ax2_sub1 = ax[0].twinx()\n",
    "ax2_sub1.set_ylabel('Volume')\n",
    "ax2_sub1.bar(pdf_day.index, pdf_day['Volume'], color='g', alpha=0.2, width = 0.5 / 1400)\n",
    "\n",
    "pdf_plt['Close'].plot(ax=ax[1])\n",
    "ax[1].set_xlabel(\"Date\")\n",
    "ax[1].get_figure().autofmt_xdate()\n",
    "xfmt = mdates.DateFormatter('%m-%d')\n",
    "ax[1].xaxis.set_major_formatter(xfmt)\n",
    "ax[1].set_ylabel(\"Price\")\n",
    "ax[1].set_title(\"EUR/USD Price Movement in 2016\", fontsize=16)\n",
    "ax[1].get_figure().autofmt_xdate()"
   ]
  },
  {
   "cell_type": "code",
   "execution_count": null,
   "metadata": {},
   "outputs": [],
   "source": [
    "sns.set_style(\"whitegrid\")\n",
    "ax = pdf_plt.groupby(pdf_plt.index.hour)['Volume'].mean().plot.bar(figsize=(18, 6), color='lightblue', title=\"\")\n",
    "ax.set_xlabel(\"Hour of Day (CST)\", fontsize=12)\n",
    "ax.set_ylabel(\"Average Volume\", fontsize=12)\n",
    "ax.set_title(\"Average Volume by Hour in 2016\", fontsize=16)"
   ]
  }
 ],
 "metadata": {
  "kernelspec": {
   "display_name": "Python 3",
   "language": "python",
   "name": "python3"
  },
  "language_info": {
   "codemirror_mode": {
    "name": "ipython",
    "version": 3
   },
   "file_extension": ".py",
   "mimetype": "text/x-python",
   "name": "python",
   "nbconvert_exporter": "python",
   "pygments_lexer": "ipython3",
   "version": "3.6.5"
  }
 },
 "nbformat": 4,
 "nbformat_minor": 2
}
